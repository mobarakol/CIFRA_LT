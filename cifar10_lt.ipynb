{
  "nbformat": 4,
  "nbformat_minor": 0,
  "metadata": {
    "colab": {
      "name": "cifar10_lt.ipynb",
      "provenance": [],
      "include_colab_link": true
    },
    "kernelspec": {
      "name": "python3",
      "display_name": "Python 3"
    },
    "language_info": {
      "name": "python"
    },
    "accelerator": "GPU",
    "widgets": {
      "application/vnd.jupyter.widget-state+json": {
        "b48fd38d8e8d49b191a2904158a23a93": {
          "model_module": "@jupyter-widgets/controls",
          "model_name": "HBoxModel",
          "model_module_version": "1.5.0",
          "state": {
            "_view_name": "HBoxView",
            "_dom_classes": [],
            "_model_name": "HBoxModel",
            "_view_module": "@jupyter-widgets/controls",
            "_model_module_version": "1.5.0",
            "_view_count": null,
            "_view_module_version": "1.5.0",
            "box_style": "",
            "layout": "IPY_MODEL_5af1ba038adf42359fbbedfc0be48d04",
            "_model_module": "@jupyter-widgets/controls",
            "children": [
              "IPY_MODEL_713ffe2f392e42e9b8554988cef57ac1",
              "IPY_MODEL_6fc3ee0489ac4a6e90fdd9595bc4f786",
              "IPY_MODEL_086dd2f807bd45fe8ca5a3893218e7a4"
            ]
          }
        },
        "5af1ba038adf42359fbbedfc0be48d04": {
          "model_module": "@jupyter-widgets/base",
          "model_name": "LayoutModel",
          "model_module_version": "1.2.0",
          "state": {
            "_view_name": "LayoutView",
            "grid_template_rows": null,
            "right": null,
            "justify_content": null,
            "_view_module": "@jupyter-widgets/base",
            "overflow": null,
            "_model_module_version": "1.2.0",
            "_view_count": null,
            "flex_flow": null,
            "width": null,
            "min_width": null,
            "border": null,
            "align_items": null,
            "bottom": null,
            "_model_module": "@jupyter-widgets/base",
            "top": null,
            "grid_column": null,
            "overflow_y": null,
            "overflow_x": null,
            "grid_auto_flow": null,
            "grid_area": null,
            "grid_template_columns": null,
            "flex": null,
            "_model_name": "LayoutModel",
            "justify_items": null,
            "grid_row": null,
            "max_height": null,
            "align_content": null,
            "visibility": null,
            "align_self": null,
            "height": null,
            "min_height": null,
            "padding": null,
            "grid_auto_rows": null,
            "grid_gap": null,
            "max_width": null,
            "order": null,
            "_view_module_version": "1.2.0",
            "grid_template_areas": null,
            "object_position": null,
            "object_fit": null,
            "grid_auto_columns": null,
            "margin": null,
            "display": null,
            "left": null
          }
        },
        "713ffe2f392e42e9b8554988cef57ac1": {
          "model_module": "@jupyter-widgets/controls",
          "model_name": "HTMLModel",
          "model_module_version": "1.5.0",
          "state": {
            "_view_name": "HTMLView",
            "style": "IPY_MODEL_337de5b4524749b0912e213d6fae3df7",
            "_dom_classes": [],
            "description": "",
            "_model_name": "HTMLModel",
            "placeholder": "​",
            "_view_module": "@jupyter-widgets/controls",
            "_model_module_version": "1.5.0",
            "value": "",
            "_view_count": null,
            "_view_module_version": "1.5.0",
            "description_tooltip": null,
            "_model_module": "@jupyter-widgets/controls",
            "layout": "IPY_MODEL_f745b5930e4b4f238357470301a511ee"
          }
        },
        "6fc3ee0489ac4a6e90fdd9595bc4f786": {
          "model_module": "@jupyter-widgets/controls",
          "model_name": "FloatProgressModel",
          "model_module_version": "1.5.0",
          "state": {
            "_view_name": "ProgressView",
            "style": "IPY_MODEL_1a83ef22c0a1469283e880f485b49d65",
            "_dom_classes": [],
            "description": "",
            "_model_name": "FloatProgressModel",
            "bar_style": "success",
            "max": 170498071,
            "_view_module": "@jupyter-widgets/controls",
            "_model_module_version": "1.5.0",
            "value": 170498071,
            "_view_count": null,
            "_view_module_version": "1.5.0",
            "orientation": "horizontal",
            "min": 0,
            "description_tooltip": null,
            "_model_module": "@jupyter-widgets/controls",
            "layout": "IPY_MODEL_38533bc85eba44a89de994a3b6f57272"
          }
        },
        "086dd2f807bd45fe8ca5a3893218e7a4": {
          "model_module": "@jupyter-widgets/controls",
          "model_name": "HTMLModel",
          "model_module_version": "1.5.0",
          "state": {
            "_view_name": "HTMLView",
            "style": "IPY_MODEL_43af27b0d1a340a7a6489c06f5ec8ac8",
            "_dom_classes": [],
            "description": "",
            "_model_name": "HTMLModel",
            "placeholder": "​",
            "_view_module": "@jupyter-widgets/controls",
            "_model_module_version": "1.5.0",
            "value": " 170499072/? [00:03&lt;00:00, 53243037.23it/s]",
            "_view_count": null,
            "_view_module_version": "1.5.0",
            "description_tooltip": null,
            "_model_module": "@jupyter-widgets/controls",
            "layout": "IPY_MODEL_c27356d054cf446e891babb3fa190e06"
          }
        },
        "337de5b4524749b0912e213d6fae3df7": {
          "model_module": "@jupyter-widgets/controls",
          "model_name": "DescriptionStyleModel",
          "model_module_version": "1.5.0",
          "state": {
            "_view_name": "StyleView",
            "_model_name": "DescriptionStyleModel",
            "description_width": "",
            "_view_module": "@jupyter-widgets/base",
            "_model_module_version": "1.5.0",
            "_view_count": null,
            "_view_module_version": "1.2.0",
            "_model_module": "@jupyter-widgets/controls"
          }
        },
        "f745b5930e4b4f238357470301a511ee": {
          "model_module": "@jupyter-widgets/base",
          "model_name": "LayoutModel",
          "model_module_version": "1.2.0",
          "state": {
            "_view_name": "LayoutView",
            "grid_template_rows": null,
            "right": null,
            "justify_content": null,
            "_view_module": "@jupyter-widgets/base",
            "overflow": null,
            "_model_module_version": "1.2.0",
            "_view_count": null,
            "flex_flow": null,
            "width": null,
            "min_width": null,
            "border": null,
            "align_items": null,
            "bottom": null,
            "_model_module": "@jupyter-widgets/base",
            "top": null,
            "grid_column": null,
            "overflow_y": null,
            "overflow_x": null,
            "grid_auto_flow": null,
            "grid_area": null,
            "grid_template_columns": null,
            "flex": null,
            "_model_name": "LayoutModel",
            "justify_items": null,
            "grid_row": null,
            "max_height": null,
            "align_content": null,
            "visibility": null,
            "align_self": null,
            "height": null,
            "min_height": null,
            "padding": null,
            "grid_auto_rows": null,
            "grid_gap": null,
            "max_width": null,
            "order": null,
            "_view_module_version": "1.2.0",
            "grid_template_areas": null,
            "object_position": null,
            "object_fit": null,
            "grid_auto_columns": null,
            "margin": null,
            "display": null,
            "left": null
          }
        },
        "1a83ef22c0a1469283e880f485b49d65": {
          "model_module": "@jupyter-widgets/controls",
          "model_name": "ProgressStyleModel",
          "model_module_version": "1.5.0",
          "state": {
            "_view_name": "StyleView",
            "_model_name": "ProgressStyleModel",
            "description_width": "",
            "_view_module": "@jupyter-widgets/base",
            "_model_module_version": "1.5.0",
            "_view_count": null,
            "_view_module_version": "1.2.0",
            "bar_color": null,
            "_model_module": "@jupyter-widgets/controls"
          }
        },
        "38533bc85eba44a89de994a3b6f57272": {
          "model_module": "@jupyter-widgets/base",
          "model_name": "LayoutModel",
          "model_module_version": "1.2.0",
          "state": {
            "_view_name": "LayoutView",
            "grid_template_rows": null,
            "right": null,
            "justify_content": null,
            "_view_module": "@jupyter-widgets/base",
            "overflow": null,
            "_model_module_version": "1.2.0",
            "_view_count": null,
            "flex_flow": null,
            "width": null,
            "min_width": null,
            "border": null,
            "align_items": null,
            "bottom": null,
            "_model_module": "@jupyter-widgets/base",
            "top": null,
            "grid_column": null,
            "overflow_y": null,
            "overflow_x": null,
            "grid_auto_flow": null,
            "grid_area": null,
            "grid_template_columns": null,
            "flex": null,
            "_model_name": "LayoutModel",
            "justify_items": null,
            "grid_row": null,
            "max_height": null,
            "align_content": null,
            "visibility": null,
            "align_self": null,
            "height": null,
            "min_height": null,
            "padding": null,
            "grid_auto_rows": null,
            "grid_gap": null,
            "max_width": null,
            "order": null,
            "_view_module_version": "1.2.0",
            "grid_template_areas": null,
            "object_position": null,
            "object_fit": null,
            "grid_auto_columns": null,
            "margin": null,
            "display": null,
            "left": null
          }
        },
        "43af27b0d1a340a7a6489c06f5ec8ac8": {
          "model_module": "@jupyter-widgets/controls",
          "model_name": "DescriptionStyleModel",
          "model_module_version": "1.5.0",
          "state": {
            "_view_name": "StyleView",
            "_model_name": "DescriptionStyleModel",
            "description_width": "",
            "_view_module": "@jupyter-widgets/base",
            "_model_module_version": "1.5.0",
            "_view_count": null,
            "_view_module_version": "1.2.0",
            "_model_module": "@jupyter-widgets/controls"
          }
        },
        "c27356d054cf446e891babb3fa190e06": {
          "model_module": "@jupyter-widgets/base",
          "model_name": "LayoutModel",
          "model_module_version": "1.2.0",
          "state": {
            "_view_name": "LayoutView",
            "grid_template_rows": null,
            "right": null,
            "justify_content": null,
            "_view_module": "@jupyter-widgets/base",
            "overflow": null,
            "_model_module_version": "1.2.0",
            "_view_count": null,
            "flex_flow": null,
            "width": null,
            "min_width": null,
            "border": null,
            "align_items": null,
            "bottom": null,
            "_model_module": "@jupyter-widgets/base",
            "top": null,
            "grid_column": null,
            "overflow_y": null,
            "overflow_x": null,
            "grid_auto_flow": null,
            "grid_area": null,
            "grid_template_columns": null,
            "flex": null,
            "_model_name": "LayoutModel",
            "justify_items": null,
            "grid_row": null,
            "max_height": null,
            "align_content": null,
            "visibility": null,
            "align_self": null,
            "height": null,
            "min_height": null,
            "padding": null,
            "grid_auto_rows": null,
            "grid_gap": null,
            "max_width": null,
            "order": null,
            "_view_module_version": "1.2.0",
            "grid_template_areas": null,
            "object_position": null,
            "object_fit": null,
            "grid_auto_columns": null,
            "margin": null,
            "display": null,
            "left": null
          }
        }
      }
    }
  },
  "cells": [
    {
      "cell_type": "markdown",
      "metadata": {
        "id": "view-in-github",
        "colab_type": "text"
      },
      "source": [
        "<a href=\"https://colab.research.google.com/github/mobarakol/CIFRA_LT/blob/main/cifar10_lt.ipynb\" target=\"_parent\"><img src=\"https://colab.research.google.com/assets/colab-badge.svg\" alt=\"Open In Colab\"/></a>"
      ]
    },
    {
      "cell_type": "markdown",
      "metadata": {
        "id": "eQ87J3fmDxjE"
      },
      "source": [
        "# CIFAR10 Long-tailed:\n",
        "Original CIFAR10 [0: airplane, 1: automobile, 2: bird, 3: cat, 4: deer, 5: dog, 6: frog, 7: horse, 8: ship, 9: truck] <br>\n"
      ]
    },
    {
      "cell_type": "code",
      "metadata": {
        "id": "Ny77mwOy5rwX"
      },
      "source": [
        "import torch\n",
        "import torch.nn as nn\n",
        "import torch.optim as optim\n",
        "import torch.nn.functional as F\n",
        "import torchvision\n",
        "from torchvision import models\n",
        "import torchvision.transforms as transforms\n",
        "import os\n",
        "import argparse\n",
        "import copy\n",
        "import random\n",
        "import numpy as np\n",
        "device = 'cuda' if torch.cuda.is_available() else 'cpu'\n",
        "def seed_everything(seed=12):\n",
        "    random.seed(seed)\n",
        "    torch.manual_seed(seed)\n",
        "    torch.cuda.manual_seed_all(seed)\n",
        "    np.random.seed(seed)\n",
        "    os.environ['PYTHONHASHSEED'] = str(seed)\n",
        "    torch.backends.cudnn.deterministic = True\n",
        "    torch.backends.cudnn.benchmark = False\n",
        "parser = argparse.ArgumentParser(description='BalancedLSF Training')\n",
        "parser.add_argument('--lr', default=0.1, type=float, help='learning rate')\n",
        "parser.add_argument('--lr_schedule', default=0, type=int, help='lr scheduler')\n",
        "parser.add_argument('--batch_size', default=1024, type=int, help='batch size')\n",
        "parser.add_argument('--test_batch_size', default=2048, type=int, help='batch size')\n",
        "parser.add_argument('--num_epoch', default=50, type=int, help='epoch number')\n",
        "parser.add_argument('--num_classes', type=int, default=10, help='number classes')\n",
        "args = parser.parse_args(args=[])\n",
        "\n",
        "def train(model, trainloader, criterion, optimizer):\n",
        "    model.train()\n",
        "    for batch_idx, (inputs, targets) in enumerate(trainloader):\n",
        "        inputs, targets = inputs.to(device), targets.to(device)\n",
        "        optimizer.zero_grad()\n",
        "        outputs = model(inputs)\n",
        "        loss = criterion(outputs, targets)\n",
        "        loss.backward()\n",
        "        optimizer.step()\n",
        "\n",
        "def test(model, testloader):\n",
        "    model.eval()\n",
        "    correct = 0\n",
        "    total = 0\n",
        "    with torch.no_grad():\n",
        "        for batch_idx, (inputs, targets) in enumerate(testloader):\n",
        "            inputs, targets = inputs.to(device), targets.to(device)\n",
        "            outputs = model(inputs)\n",
        "            _, predicted = outputs.max(1)\n",
        "            total += targets.size(0)\n",
        "            correct += predicted.eq(targets).sum().item()\n",
        "    return correct / total"
      ],
      "execution_count": 1,
      "outputs": []
    },
    {
      "cell_type": "markdown",
      "source": [
        "Imbalanced CIFAR class:"
      ],
      "metadata": {
        "id": "SiFzyUGgolbA"
      }
    },
    {
      "cell_type": "code",
      "source": [
        "import torch\n",
        "import torchvision\n",
        "import torchvision.transforms as transforms\n",
        "import numpy as np\n",
        "\n",
        "class IMBALANCECIFAR10(torchvision.datasets.CIFAR10):\n",
        "    cls_num = 10\n",
        "\n",
        "    def __init__(self, root, imb_type='exp', imb_factor=0.01, rand_number=0, train=True,\n",
        "                 transform=None, target_transform=None,\n",
        "                 download=False):\n",
        "        super(IMBALANCECIFAR10, self).__init__(root, train, transform, target_transform, download)\n",
        "        np.random.seed(rand_number)\n",
        "        img_num_list = self.get_img_num_per_cls(self.cls_num, imb_type, imb_factor)\n",
        "        self.gen_imbalanced_data(img_num_list)\n",
        "\n",
        "    def get_img_num_per_cls(self, cls_num, imb_type, imb_factor):\n",
        "        img_max = len(self.data) / cls_num\n",
        "        img_num_per_cls = []\n",
        "        if imb_type == 'exp':\n",
        "            for cls_idx in range(cls_num):\n",
        "                num = img_max * (imb_factor**(cls_idx / (cls_num - 1.0)))\n",
        "                img_num_per_cls.append(int(num))\n",
        "        elif imb_type == 'step':\n",
        "            for cls_idx in range(cls_num // 2):\n",
        "                img_num_per_cls.append(int(img_max))\n",
        "            for cls_idx in range(cls_num // 2):\n",
        "                img_num_per_cls.append(int(img_max * imb_factor))\n",
        "        else:\n",
        "            img_num_per_cls.extend([int(img_max)] * cls_num)\n",
        "        return img_num_per_cls\n",
        "\n",
        "    def gen_imbalanced_data(self, img_num_per_cls):\n",
        "        new_data = []\n",
        "        new_targets = []\n",
        "        targets_np = np.array(self.targets, dtype=np.int64)\n",
        "        classes = np.unique(targets_np)\n",
        "        self.num_per_cls_dict = dict()\n",
        "        for the_class, the_img_num in zip(classes, img_num_per_cls):\n",
        "            self.num_per_cls_dict[the_class] = the_img_num\n",
        "            idx = np.where(targets_np == the_class)[0]\n",
        "            np.random.shuffle(idx)\n",
        "            selec_idx = idx[:the_img_num]\n",
        "            new_data.append(self.data[selec_idx, ...])\n",
        "            new_targets.extend([the_class, ] * the_img_num)\n",
        "        new_data = np.vstack(new_data)\n",
        "        self.data = new_data\n",
        "        self.targets = new_targets\n",
        "        \n",
        "    def get_cls_num_list(self):\n",
        "        cls_num_list = []\n",
        "        for i in range(self.cls_num):\n",
        "            cls_num_list.append(self.num_per_cls_dict[i])\n",
        "        return cls_num_list\n",
        "\n",
        "class IMBALANCECIFAR100(IMBALANCECIFAR10):\n",
        "    \"\"\"`CIFAR100 <https://www.cs.toronto.edu/~kriz/cifar.html>`_ Dataset.\n",
        "    This is a subclass of the `CIFAR10` Dataset.\n",
        "    \"\"\"\n",
        "    base_folder = 'cifar-100-python'\n",
        "    url = \"https://www.cs.toronto.edu/~kriz/cifar-100-python.tar.gz\"\n",
        "    filename = \"cifar-100-python.tar.gz\"\n",
        "    tgz_md5 = 'eb9058c3a382ffc7106e4002c42a8d85'\n",
        "    train_list = [\n",
        "        ['train', '16019d7e3df5f24257cddd939b257f8d'],\n",
        "    ]\n",
        "\n",
        "    test_list = [\n",
        "        ['test', 'f0ef6b0ae62326f3e7ffdfab6717acfc'],\n",
        "    ]\n",
        "    meta = {\n",
        "        'filename': 'meta',\n",
        "        'key': 'fine_label_names',\n",
        "        'md5': '7973b15100ade9c7d40fb424638fde48',\n",
        "    }\n",
        "    cls_num = 100"
      ],
      "metadata": {
        "id": "YIaNe4lvok3X"
      },
      "execution_count": 2,
      "outputs": []
    },
    {
      "cell_type": "markdown",
      "metadata": {
        "id": "LZ9xCxgxhmsn"
      },
      "source": [
        "Training"
      ]
    },
    {
      "cell_type": "code",
      "source": [
        "seed_everything()\n",
        "mean_cifar10, std_cifar10 = (0.5071, 0.4866, 0.4409), (0.2009, 0.1984, 0.2023)\n",
        "transform_train = transforms.Compose([transforms.RandomCrop(32, padding=4),\n",
        "            transforms.RandomHorizontalFlip(), transforms.ToTensor(),\n",
        "            transforms.Normalize(mean_cifar10, std_cifar10), ])\n",
        "transform_test = transforms.Compose([transforms.ToTensor(),\n",
        "    transforms.Normalize(mean_cifar10, std_cifar10),])\n",
        "#train_dataset = torchvision.datasets.CIFAR10(root='./data', train=True, download=True, transform=transform_train)\n",
        "args.imb_factor = 0.01\n",
        "train_dataset = IMBALANCECIFAR10(root='./data', imb_type='exp', imb_factor=args.imb_factor, rand_number=0, train=True, download=True, transform=transform_train)\n",
        "test_dataset = torchvision.datasets.CIFAR10(root='./data', train=False, download=True, transform=transform_test)\n",
        "\n",
        "train_loader = torch.utils.data.DataLoader(train_dataset, batch_size=args.batch_size, shuffle=True,num_workers=4)\n",
        "test_loader = torch.utils.data.DataLoader(test_dataset, batch_size=2048, shuffle=False, num_workers=4)\n",
        "\n",
        "model = models.resnet18().to(device)\n",
        "model.fc = nn.Linear(model.fc.in_features, args.num_classes)\n",
        "model = model.to(device)"
      ],
      "metadata": {
        "colab": {
          "base_uri": "https://localhost:8080/",
          "height": 156,
          "referenced_widgets": [
            "b48fd38d8e8d49b191a2904158a23a93",
            "5af1ba038adf42359fbbedfc0be48d04",
            "713ffe2f392e42e9b8554988cef57ac1",
            "6fc3ee0489ac4a6e90fdd9595bc4f786",
            "086dd2f807bd45fe8ca5a3893218e7a4",
            "337de5b4524749b0912e213d6fae3df7",
            "f745b5930e4b4f238357470301a511ee",
            "1a83ef22c0a1469283e880f485b49d65",
            "38533bc85eba44a89de994a3b6f57272",
            "43af27b0d1a340a7a6489c06f5ec8ac8",
            "c27356d054cf446e891babb3fa190e06"
          ]
        },
        "id": "ylEr5myINLRG",
        "outputId": "bae67a21-e5fc-49e1-e088-95ff4cc016e4"
      },
      "execution_count": 3,
      "outputs": [
        {
          "output_type": "stream",
          "name": "stdout",
          "text": [
            "Downloading https://www.cs.toronto.edu/~kriz/cifar-10-python.tar.gz to ./data/cifar-10-python.tar.gz\n"
          ]
        },
        {
          "output_type": "display_data",
          "data": {
            "application/vnd.jupyter.widget-view+json": {
              "model_id": "b48fd38d8e8d49b191a2904158a23a93",
              "version_minor": 0,
              "version_major": 2
            },
            "text/plain": [
              "  0%|          | 0/170498071 [00:00<?, ?it/s]"
            ]
          },
          "metadata": {}
        },
        {
          "output_type": "stream",
          "name": "stdout",
          "text": [
            "Extracting ./data/cifar-10-python.tar.gz to ./data\n",
            "Files already downloaded and verified\n"
          ]
        },
        {
          "output_type": "stream",
          "name": "stderr",
          "text": [
            "/usr/local/lib/python3.7/dist-packages/torch/utils/data/dataloader.py:481: UserWarning: This DataLoader will create 4 worker processes in total. Our suggested max number of worker in current system is 2, which is smaller than what this DataLoader is going to create. Please be aware that excessive worker creation might get DataLoader running slow or even freeze, lower the worker number to avoid potential slowness/freeze if necessary.\n",
            "  cpuset_checked))\n"
          ]
        }
      ]
    },
    {
      "cell_type": "markdown",
      "source": [
        "## This cell can be ignored if you wanna use the trained weights from next cell\n",
        "run epoch"
      ],
      "metadata": {
        "id": "J3SzNoN6-n0y"
      }
    },
    {
      "cell_type": "code",
      "metadata": {
        "colab": {
          "base_uri": "https://localhost:8080/"
        },
        "id": "wsei6ouF6IXy",
        "outputId": "f9352992-1009-4c59-8e5d-0454d1ae820e"
      },
      "source": [
        "\n",
        "optimizer = optim.SGD(model.parameters(), lr=args.lr, momentum=0.9, nesterov=False, weight_decay=0.0001)\n",
        "criterion = nn.CrossEntropyLoss()\n",
        "\n",
        "best_epoch, best_acc = 0.0, 0\n",
        "for epoch in range(args.num_epoch):\n",
        "    train(model, train_loader, criterion, optimizer)\n",
        "    accuracy = test(model, test_loader)\n",
        "    if accuracy > best_acc:\n",
        "        patience = 0\n",
        "        best_acc = accuracy\n",
        "        best_epoch = epoch\n",
        "        best_model = copy.deepcopy(model)\n",
        "        torch.save(best_model.state_dict(), 'best_model_cifar10_lt100.pth.tar')\n",
        "    print('epoch: {}  acc: {:.4f}  best epoch: {}  best acc: {:.4f}'.format(\n",
        "            epoch, accuracy, best_epoch, best_acc, optimizer.param_groups[0]['lr']))"
      ],
      "execution_count": 7,
      "outputs": [
        {
          "output_type": "stream",
          "name": "stderr",
          "text": [
            "/usr/local/lib/python3.7/dist-packages/torch/utils/data/dataloader.py:481: UserWarning: This DataLoader will create 4 worker processes in total. Our suggested max number of worker in current system is 2, which is smaller than what this DataLoader is going to create. Please be aware that excessive worker creation might get DataLoader running slow or even freeze, lower the worker number to avoid potential slowness/freeze if necessary.\n",
            "  cpuset_checked))\n"
          ]
        },
        {
          "output_type": "stream",
          "name": "stdout",
          "text": [
            "epoch: 0  acc: 0.1477  best epoch: 0  best acc: 0.1477\n",
            "epoch: 1  acc: 0.1499  best epoch: 1  best acc: 0.1499\n",
            "epoch: 2  acc: 0.1339  best epoch: 1  best acc: 0.1499\n",
            "epoch: 3  acc: 0.1806  best epoch: 3  best acc: 0.1806\n",
            "epoch: 4  acc: 0.1735  best epoch: 3  best acc: 0.1806\n",
            "epoch: 5  acc: 0.2025  best epoch: 5  best acc: 0.2025\n",
            "epoch: 6  acc: 0.2003  best epoch: 5  best acc: 0.2025\n",
            "epoch: 7  acc: 0.2193  best epoch: 7  best acc: 0.2193\n",
            "epoch: 8  acc: 0.2110  best epoch: 7  best acc: 0.2193\n",
            "epoch: 9  acc: 0.2106  best epoch: 7  best acc: 0.2193\n",
            "epoch: 10  acc: 0.2368  best epoch: 10  best acc: 0.2368\n",
            "epoch: 11  acc: 0.2426  best epoch: 11  best acc: 0.2426\n",
            "epoch: 12  acc: 0.2337  best epoch: 11  best acc: 0.2426\n",
            "epoch: 13  acc: 0.2456  best epoch: 13  best acc: 0.2456\n",
            "epoch: 14  acc: 0.2594  best epoch: 14  best acc: 0.2594\n",
            "epoch: 15  acc: 0.2637  best epoch: 15  best acc: 0.2637\n",
            "epoch: 16  acc: 0.2683  best epoch: 16  best acc: 0.2683\n",
            "epoch: 17  acc: 0.2443  best epoch: 16  best acc: 0.2683\n",
            "epoch: 18  acc: 0.2555  best epoch: 16  best acc: 0.2683\n",
            "epoch: 19  acc: 0.2745  best epoch: 19  best acc: 0.2745\n",
            "epoch: 20  acc: 0.2029  best epoch: 19  best acc: 0.2745\n",
            "epoch: 21  acc: 0.2160  best epoch: 19  best acc: 0.2745\n",
            "epoch: 22  acc: 0.2682  best epoch: 19  best acc: 0.2745\n",
            "epoch: 23  acc: 0.2731  best epoch: 19  best acc: 0.2745\n",
            "epoch: 24  acc: 0.2785  best epoch: 24  best acc: 0.2785\n",
            "epoch: 25  acc: 0.2808  best epoch: 25  best acc: 0.2808\n",
            "epoch: 26  acc: 0.2749  best epoch: 25  best acc: 0.2808\n",
            "epoch: 27  acc: 0.2955  best epoch: 27  best acc: 0.2955\n",
            "epoch: 28  acc: 0.2828  best epoch: 27  best acc: 0.2955\n",
            "epoch: 29  acc: 0.2929  best epoch: 27  best acc: 0.2955\n",
            "epoch: 30  acc: 0.3074  best epoch: 30  best acc: 0.3074\n",
            "epoch: 31  acc: 0.3035  best epoch: 30  best acc: 0.3074\n",
            "epoch: 32  acc: 0.3019  best epoch: 30  best acc: 0.3074\n",
            "epoch: 33  acc: 0.3165  best epoch: 33  best acc: 0.3165\n",
            "epoch: 34  acc: 0.3126  best epoch: 33  best acc: 0.3165\n",
            "epoch: 35  acc: 0.3152  best epoch: 33  best acc: 0.3165\n",
            "epoch: 36  acc: 0.3330  best epoch: 36  best acc: 0.3330\n",
            "epoch: 37  acc: 0.3245  best epoch: 36  best acc: 0.3330\n",
            "epoch: 38  acc: 0.3176  best epoch: 36  best acc: 0.3330\n",
            "epoch: 39  acc: 0.3433  best epoch: 39  best acc: 0.3433\n",
            "epoch: 40  acc: 0.3420  best epoch: 39  best acc: 0.3433\n",
            "epoch: 41  acc: 0.3366  best epoch: 39  best acc: 0.3433\n",
            "epoch: 42  acc: 0.3280  best epoch: 39  best acc: 0.3433\n",
            "epoch: 43  acc: 0.3676  best epoch: 43  best acc: 0.3676\n",
            "epoch: 44  acc: 0.3655  best epoch: 43  best acc: 0.3676\n",
            "epoch: 45  acc: 0.3610  best epoch: 43  best acc: 0.3676\n",
            "epoch: 46  acc: 0.3704  best epoch: 46  best acc: 0.3704\n",
            "epoch: 47  acc: 0.3583  best epoch: 46  best acc: 0.3704\n",
            "epoch: 48  acc: 0.3893  best epoch: 48  best acc: 0.3893\n",
            "epoch: 49  acc: 0.3497  best epoch: 48  best acc: 0.3893\n"
          ]
        }
      ]
    },
    {
      "cell_type": "markdown",
      "source": [
        "Download trained model"
      ],
      "metadata": {
        "id": "byghfr0qOBkI"
      }
    },
    {
      "cell_type": "code",
      "source": [
        "!pip install -U -q PyDrive\n",
        "from pydrive.auth import GoogleAuth\n",
        "from pydrive.drive import GoogleDrive\n",
        "from google.colab import auth\n",
        "from oauth2client.client import GoogleCredentials\n",
        "\n",
        "# Authenticate and create the PyDrive client.\n",
        "auth.authenticate_user()\n",
        "gauth = GoogleAuth()\n",
        "gauth.credentials = GoogleCredentials.get_application_default()\n",
        "drive = GoogleDrive(gauth)\n",
        "\n",
        "id = ['1huK_se1kruKhe2GjZABgA97_mCSZuzCK']\n",
        "downloaded = drive.CreateFile({'id':id[0]}) \n",
        "downloaded.GetContentFile('best_model_cifar10_lt100.pth.tar')"
      ],
      "metadata": {
        "id": "FRUd5P0JOBBM"
      },
      "execution_count": 6,
      "outputs": []
    },
    {
      "cell_type": "markdown",
      "source": [
        "## confusion matrix: scratch"
      ],
      "metadata": {
        "id": "kWXG58TvNcUB"
      }
    },
    {
      "cell_type": "code",
      "source": [
        "\n",
        "\n",
        "\n",
        "def get_confusion_matrix(model, testloader):\n",
        "    model.eval()\n",
        "    confusion_matrix = torch.zeros(args.num_classes, args.num_classes)\n",
        "    correct = 0\n",
        "    total = 0\n",
        "    acc_per_class = torch.zeros(args.num_classes)\n",
        "    samples_per_class = torch.zeros(args.num_classes)\n",
        "    with torch.no_grad():\n",
        "        for i, (inputs, targets) in enumerate(testloader):\n",
        "            inputs, targets = inputs.to(device), targets.to(device)\n",
        "            outputs = model(inputs)\n",
        "            _, preds = torch.max(outputs, 1)\n",
        "            for t, p in zip(targets.view(-1), preds.view(-1)):\n",
        "                    confusion_matrix[t.long(), p.long()] += 1\n",
        "            \n",
        "            total += targets.size(0)\n",
        "            correct_matrix = preds.eq(targets)\n",
        "            correct += correct_matrix.sum().item()\n",
        "            for cls in range (args.num_classes):\n",
        "                acc_per_class[cls] += correct_matrix[targets==cls].sum().item()\n",
        "                samples_per_class[cls] += (targets==cls).sum().item()\n",
        "\n",
        "    return correct / total, confusion_matrix, acc_per_class/samples_per_class\n",
        "\n",
        "def get_tp_tn_fp_fn(conf_matrix, nb_classes):\n",
        "    TP = conf_matrix.diag()\n",
        "    for c in range(nb_classes):\n",
        "        idx = torch.ones(nb_classes).byte()\n",
        "        idx[c] = 0\n",
        "        # all non-class samples classified as non-class\n",
        "        TN = conf_matrix[idx.nonzero()[:, None], idx.nonzero()].sum() #conf_matrix[idx[:, None], idx].sum() - conf_matrix[idx, c].sum()\n",
        "        # all non-class samples classified as class\n",
        "        FP = conf_matrix[idx, c].sum()\n",
        "        # all class samples not classified as class\n",
        "        FN = conf_matrix[c, idx].sum()\n",
        "        \n",
        "        print('Class {}\\nTP {}, TN {}, FP {}, FN {}, acc={}, recall={}, prec={}, total= {}'.format(\n",
        "            c, TP[c], TN, FP, FN,(TP[c]+TN)/(TP[c]+TN+FP+FN), TP[c]/(TP[c]+FN), TP[c]/(TP[c]+FP), (TP[c]+TN+FP+FN) ))\n",
        "    \n",
        "\n",
        "model.load_state_dict(torch.load('best_model_cifar10_lt100.pth.tar'))\n",
        "acc, confusion_matrix, acc_per_class = get_confusion_matrix(model, test_loader)\n",
        "print('confusion matrix:\\n', confusion_matrix)\n",
        "class_wise_acc = confusion_matrix.diag()/confusion_matrix.sum(1)\n",
        "print('per-class accuracy from CM:', class_wise_acc)\n",
        "print('per-class accuracy from scratch:', acc_per_class)\n",
        "print('accuracy-with CM:',class_wise_acc.mean(), ',directly:',acc, ',directly per class to mean:',acc_per_class.mean().item())\n",
        "\n",
        "get_tp_tn_fp_fn(confusion_matrix, args.num_classes)"
      ],
      "metadata": {
        "colab": {
          "base_uri": "https://localhost:8080/"
        },
        "id": "yLHhlr2w_6jx",
        "outputId": "e0fb13d7-e035-438d-9441-4fd9a20a2efa"
      },
      "execution_count": 7,
      "outputs": [
        {
          "output_type": "stream",
          "name": "stderr",
          "text": [
            "/usr/local/lib/python3.7/dist-packages/torch/utils/data/dataloader.py:481: UserWarning: This DataLoader will create 4 worker processes in total. Our suggested max number of worker in current system is 2, which is smaller than what this DataLoader is going to create. Please be aware that excessive worker creation might get DataLoader running slow or even freeze, lower the worker number to avoid potential slowness/freeze if necessary.\n",
            "  cpuset_checked))\n"
          ]
        },
        {
          "output_type": "stream",
          "name": "stdout",
          "text": [
            "confusion matrix:\n",
            " tensor([[907.,  31.,  32.,  19.,   8.,   0.,   3.,   0.,   0.,   0.],\n",
            "        [ 84., 868.,  14.,  30.,   1.,   1.,   2.,   0.,   0.,   0.],\n",
            "        [147.,  21., 563., 148.,  95.,  11.,  12.,   3.,   0.,   0.],\n",
            "        [ 79.,  30., 112., 701.,  56.,  14.,   5.,   3.,   0.,   0.],\n",
            "        [127.,  16., 186., 205., 440.,   6.,  15.,   5.,   0.,   0.],\n",
            "        [ 80.,   9., 101., 607.,  71., 118.,   6.,   8.,   0.,   0.],\n",
            "        [ 43.,  32., 161., 419., 170.,   2., 169.,   4.,   0.,   0.],\n",
            "        [189.,  31., 102., 326., 181.,  38.,   6., 127.,   0.,   0.],\n",
            "        [729., 193.,  28.,  40.,   9.,   1.,   0.,   0.,   0.,   0.],\n",
            "        [260., 627.,  26.,  66.,   9.,   0.,  10.,   2.,   0.,   0.]])\n",
            "per-class accuracy from CM: tensor([0.9070, 0.8680, 0.5630, 0.7010, 0.4400, 0.1180, 0.1690, 0.1270, 0.0000,\n",
            "        0.0000])\n",
            "per-class accuracy from scratch: tensor([0.9070, 0.8680, 0.5630, 0.7010, 0.4400, 0.1180, 0.1690, 0.1270, 0.0000,\n",
            "        0.0000])\n",
            "accuracy-with CM: tensor(0.3893) ,directly: 0.3893 ,directly per class to mean: 0.38930001854896545\n",
            "Class 0\n",
            "TP 907.0, TN 7262.0, FP 1738.0, FN 93.0, acc=0.8169000148773193, recall=0.9070000052452087, prec=0.34291115403175354, total= 10000.0\n",
            "Class 1\n",
            "TP 868.0, TN 8010.0, FP 990.0, FN 132.0, acc=0.8877999782562256, recall=0.8679999709129333, prec=0.46716898679733276, total= 10000.0\n",
            "Class 2\n",
            "TP 563.0, TN 8238.0, FP 762.0, FN 437.0, acc=0.8801000118255615, recall=0.5630000233650208, prec=0.4249056577682495, total= 10000.0\n",
            "Class 3\n",
            "TP 701.0, TN 7140.0, FP 1860.0, FN 299.0, acc=0.7840999960899353, recall=0.7009999752044678, prec=0.27372118830680847, total= 10000.0\n",
            "Class 4\n",
            "TP 440.0, TN 8400.0, FP 600.0, FN 560.0, acc=0.8840000033378601, recall=0.4399999976158142, prec=0.42307692766189575, total= 10000.0\n",
            "Class 5\n",
            "TP 118.0, TN 8927.0, FP 73.0, FN 882.0, acc=0.9045000076293945, recall=0.11800000071525574, prec=0.6178010702133179, total= 10000.0\n",
            "Class 6\n",
            "TP 169.0, TN 8941.0, FP 59.0, FN 831.0, acc=0.9110000133514404, recall=0.16899999976158142, prec=0.7412280440330505, total= 10000.0\n",
            "Class 7\n",
            "TP 127.0, TN 8975.0, FP 25.0, FN 873.0, acc=0.9101999998092651, recall=0.12700000405311584, prec=0.8355262875556946, total= 10000.0\n",
            "Class 8\n",
            "TP 0.0, TN 9000.0, FP 0.0, FN 1000.0, acc=0.8999999761581421, recall=0.0, prec=nan, total= 10000.0\n",
            "Class 9\n",
            "TP 0.0, TN 9000.0, FP 0.0, FN 1000.0, acc=0.8999999761581421, recall=0.0, prec=nan, total= 10000.0\n"
          ]
        },
        {
          "output_type": "stream",
          "name": "stderr",
          "text": [
            "/usr/local/lib/python3.7/dist-packages/ipykernel_launcher.py:36: UserWarning: indexing with dtype torch.uint8 is now deprecated, please use a dtype torch.bool instead. (Triggered internally at  ../aten/src/ATen/native/IndexingUtils.h:30.)\n",
            "/usr/local/lib/python3.7/dist-packages/ipykernel_launcher.py:38: UserWarning: indexing with dtype torch.uint8 is now deprecated, please use a dtype torch.bool instead. (Triggered internally at  ../aten/src/ATen/native/IndexingUtils.h:30.)\n"
          ]
        }
      ]
    },
    {
      "cell_type": "markdown",
      "source": [
        "## confusion matrix: lib"
      ],
      "metadata": {
        "id": "GVNQ8E0xNtJf"
      }
    },
    {
      "cell_type": "code",
      "source": [
        "import matplotlib.pyplot as plt\n",
        "from sklearn.metrics import accuracy_score\n",
        "from sklearn import metrics\n",
        "from sklearn.metrics import confusion_matrix\n",
        "#from resources.plotcm import plot_confusion_matrix\n",
        "\n",
        "def evaluation_all(model, testloader):\n",
        "    model.eval()\n",
        "    pred_list = []\n",
        "    labels_list = []\n",
        "    correct = 0\n",
        "    total = 0\n",
        "    with torch.no_grad():\n",
        "        for batch_idx, (inputs, targets) in enumerate(testloader):\n",
        "            inputs, targets = inputs.to(device), targets.to(device)\n",
        "            outputs = model(inputs)\n",
        "            _, predicted = outputs.max(1)\n",
        "            total += targets.size(0)\n",
        "            correct += predicted.eq(targets).sum().item()\n",
        "            outputs = F.softmax(outputs, dim=1)\n",
        "            pred_list.append(predicted)\n",
        "            labels_list.append(targets)\n",
        "\n",
        "        preds = torch.cat(pred_list).cpu().numpy()\n",
        "        labels = torch.cat(labels_list).cpu().numpy()\n",
        "    return correct / total, preds, labels\n",
        "\n",
        "acc, preds, labels = evaluation_all(model, test_loader)\n",
        "acc_lib = accuracy_score(labels, preds)\n",
        "# Confusion matrix\n",
        "conf_mat=confusion_matrix(labels, preds)\n",
        "print('confusion matrix:\\n',conf_mat)\n",
        "\n",
        "# Per-class accuracy\n",
        "class_accuracy=conf_mat.diagonal()/conf_mat.sum(1)\n",
        "print('per-class accuracy:',class_accuracy)\n",
        "print('accuracy-with CM:',class_accuracy.mean(), ',directly:',acc, 'lib:',acc_lib)\n",
        "\n",
        "print(metrics.classification_report(labels, preds, digits=3))"
      ],
      "metadata": {
        "colab": {
          "base_uri": "https://localhost:8080/"
        },
        "id": "383-xz_993kD",
        "outputId": "e4ceca83-de86-48de-9198-289e594875b9"
      },
      "execution_count": 9,
      "outputs": [
        {
          "output_type": "stream",
          "name": "stderr",
          "text": [
            "/usr/local/lib/python3.7/dist-packages/torch/utils/data/dataloader.py:481: UserWarning: This DataLoader will create 4 worker processes in total. Our suggested max number of worker in current system is 2, which is smaller than what this DataLoader is going to create. Please be aware that excessive worker creation might get DataLoader running slow or even freeze, lower the worker number to avoid potential slowness/freeze if necessary.\n",
            "  cpuset_checked))\n"
          ]
        },
        {
          "output_type": "stream",
          "name": "stdout",
          "text": [
            "confusion matrix:\n",
            " [[907  31  32  19   8   0   3   0   0   0]\n",
            " [ 84 868  14  30   1   1   2   0   0   0]\n",
            " [147  21 563 148  95  11  12   3   0   0]\n",
            " [ 79  30 112 701  56  14   5   3   0   0]\n",
            " [127  16 186 205 440   6  15   5   0   0]\n",
            " [ 80   9 101 607  71 118   6   8   0   0]\n",
            " [ 43  32 161 419 170   2 169   4   0   0]\n",
            " [189  31 102 326 181  38   6 127   0   0]\n",
            " [729 193  28  40   9   1   0   0   0   0]\n",
            " [260 627  26  66   9   0  10   2   0   0]]\n",
            "per-class accuracy: [0.907 0.868 0.563 0.701 0.44  0.118 0.169 0.127 0.    0.   ]\n",
            "accuracy-with CM: 0.3893 ,directly: 0.3893 lib: 0.3893\n",
            "              precision    recall  f1-score   support\n",
            "\n",
            "           0      0.343     0.907     0.498      1000\n",
            "           1      0.467     0.868     0.607      1000\n",
            "           2      0.425     0.563     0.484      1000\n",
            "           3      0.274     0.701     0.394      1000\n",
            "           4      0.423     0.440     0.431      1000\n",
            "           5      0.618     0.118     0.198      1000\n",
            "           6      0.741     0.169     0.275      1000\n",
            "           7      0.836     0.127     0.220      1000\n",
            "           8      0.000     0.000     0.000      1000\n",
            "           9      0.000     0.000     0.000      1000\n",
            "\n",
            "    accuracy                          0.389     10000\n",
            "   macro avg      0.413     0.389     0.311     10000\n",
            "weighted avg      0.413     0.389     0.311     10000\n",
            "\n"
          ]
        },
        {
          "output_type": "stream",
          "name": "stderr",
          "text": [
            "/usr/local/lib/python3.7/dist-packages/sklearn/metrics/_classification.py:1308: UndefinedMetricWarning: Precision and F-score are ill-defined and being set to 0.0 in labels with no predicted samples. Use `zero_division` parameter to control this behavior.\n",
            "  _warn_prf(average, modifier, msg_start, len(result))\n",
            "/usr/local/lib/python3.7/dist-packages/sklearn/metrics/_classification.py:1308: UndefinedMetricWarning: Precision and F-score are ill-defined and being set to 0.0 in labels with no predicted samples. Use `zero_division` parameter to control this behavior.\n",
            "  _warn_prf(average, modifier, msg_start, len(result))\n",
            "/usr/local/lib/python3.7/dist-packages/sklearn/metrics/_classification.py:1308: UndefinedMetricWarning: Precision and F-score are ill-defined and being set to 0.0 in labels with no predicted samples. Use `zero_division` parameter to control this behavior.\n",
            "  _warn_prf(average, modifier, msg_start, len(result))\n"
          ]
        }
      ]
    },
    {
      "cell_type": "markdown",
      "source": [
        "## Drawing confusion matrix"
      ],
      "metadata": {
        "id": "-41RjcpkQ-vA"
      }
    },
    {
      "cell_type": "code",
      "source": [
        "import seaborn as sn\n",
        "import pandas as pd\n",
        "classes = ('airplane', 'automobile', 'bird', 'cat', 'deer', 'dog', 'frog', 'horse', 'ship', 'truck')\n",
        "df_cm = pd.DataFrame(conf_mat, index = [i for i in classes],\n",
        "                     columns = [i for i in classes])\n",
        "plt.figure(figsize = (12,7))\n",
        "sn.heatmap(df_cm, annot=True, cmap='Blues', fmt='g')"
      ],
      "metadata": {
        "colab": {
          "base_uri": "https://localhost:8080/",
          "height": 445
        },
        "id": "_X5Um9CPIUtM",
        "outputId": "9cc0dae2-62c0-40e9-ac48-f528db021999"
      },
      "execution_count": 12,
      "outputs": [
        {
          "output_type": "execute_result",
          "data": {
            "text/plain": [
              "<matplotlib.axes._subplots.AxesSubplot at 0x7f546e319a90>"
            ]
          },
          "metadata": {},
          "execution_count": 12
        },
        {
          "output_type": "display_data",
          "data": {
            "image/png": "[encoded data removed]",
            "text/plain": [
              "<Figure size 864x504 with 2 Axes>"
            ]
          },
          "metadata": {
            "needs_background": "light"
          }
        }
      ]
    }
  ]
}